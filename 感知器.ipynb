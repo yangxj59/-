{
 "cells": [
  {
   "cell_type": "code",
   "execution_count": 1,
   "metadata": {},
   "outputs": [
    {
     "data": {
      "text/plain": [
       "<Figure size 800x600 with 1 Axes>"
      ]
     },
     "metadata": {},
     "output_type": "display_data"
    }
   ],
   "source": [
    "import numpy as np\n",
    "import matplotlib.pyplot as plt#导入matplotlib库\n",
    "from sklearn.datasets import make_blobs\n",
    "from sklearn.model_selection import train_test_split\n",
    "np.random.seed(123)#每次生成相同的随机数\n",
    "X, y = make_blobs(n_samples=1000, centers=2)#生成两类样本数\n",
    "fig = plt.figure(figsize=(8,6))#设置尺寸\n",
    "plt.scatter(X[:,0], X[:,1], c=y)#画散点图\n",
    "plt.title(\"Dataset\")#设置标题\n",
    "plt.xlabel(\"First feature\")#设置x轴标签\n",
    "plt.ylabel(\"Second feature\")#设置y轴标签\n",
    "plt.show()#显示所画的图\n",
    "y_true = y[:, np.newaxis]  "
   ]
  },
  {
   "cell_type": "code",
   "execution_count": 2,
   "metadata": {},
   "outputs": [
    {
     "name": "stdout",
     "output_type": "stream",
     "text": [
      "Shape X_train: (750, 2)\n",
      "Shape y_train: (750, 1))\n",
      "Shape X_test: (250, 2)\n",
      "Shape y_test: (250, 1)\n"
     ]
    }
   ],
   "source": [
    "X_train, X_test, y_train, y_test = train_test_split(X, y_true)\n",
    "print(f'Shape X_train: {X_train.shape}')#划分出的训练集数据（返回值）\n",
    "print(f'Shape y_train: {y_train.shape})')#划分出的训练集标签（返回值）\n",
    "print(f'Shape X_test: {X_test.shape}')#划分出的测试集数据（返回值）\n",
    "print(f'Shape y_test: {y_test.shape}')#划分出的测试集标签（返回值）"
   ]
  },
  {
   "cell_type": "code",
   "execution_count": 3,
   "metadata": {},
   "outputs": [],
   "source": [
    "class Perceptron():\n",
    "\n",
    "    def __init__(self):\n",
    "        pass\n",
    "\n",
    "    def train(self, X, y, learning_rate=0.05, n_iters=1000):\n",
    "        n_samples, n_features = X.shape\n",
    "\n",
    "        # 初始化参数\n",
    "        self.weights = np.zeros((n_features,1))#生成一列大小为X.shape的数据\n",
    "        self.bias = 0\n",
    "\n",
    "        for i in range(n_iters):\n",
    "            # 计算分类函数\n",
    "            a = np.dot(X, self.weights) + self.bias\n",
    "\n",
    "            # 计算输出\n",
    "            y_predict = self.step_function(a)\n",
    "\n",
    "            # 计算权重更新\n",
    "            delta_w = learning_rate * np.dot(X.T, (y - y_predict))\n",
    "            delta_b = learning_rate * np.sum(y - y_predict)\n",
    "\n",
    "            # 更新参数\n",
    "            self.weights += delta_w\n",
    "            self.bias += delta_b\n",
    "\n",
    "        return self.weights, self.bias\n",
    "\n",
    "    def step_function(self, x):\n",
    "        return np.array([1 if elem >= 0 else 0 for elem in x])[:, np.newaxis]\n",
    "        #返回一个列向量,x>0取1；x<0取0\n",
    "\n",
    "    def predict(self, X):\n",
    "        a = np.dot(X, self.weights) + self.bias\n",
    "        return self.step_function(a)"
   ]
  },
  {
   "cell_type": "code",
   "execution_count": null,
   "metadata": {},
   "outputs": [],
   "source": [
    "p = Perceptron()\n",
    "w_trained, b_trained = p.train(X_train, y_train,learning_rate=0.05, n_iters=1000)\n",
    "#返回self.weights, self.bias\n",
    "\n",
    "\n",
    "def plot_hyperplane(X, y, weights, bias):\n",
    "  #画出决策超平面（在二维是一条直线）  \n",
    "    slope = - weights[0]/weights[1]\n",
    "    intercept = - bias/weights[1]\n",
    "    x_hyperplane = np.linspace(-10,10,10)\n",
    "    y_hyperplane = slope * x_hyperplane + intercept\n",
    "    fig = plt.figure(figsize=(8,6))\n",
    "    plt.scatter(X[:,0], X[:,1], c=y)\n",
    "    plt.plot(x_hyperplane, y_hyperplane, '-')\n",
    "    plt.title(\"Dataset and fitted decision hyperplane\")\n",
    "    plt.xlabel(\"First feature\")\n",
    "    plt.ylabel(\"Second feature\")\n",
    "    plt.show()\n",
    "\n",
    "plot_hyperplane(X, y, w_trained, b_trained)"
   ]
  }
 ],
 "metadata": {
  "kernelspec": {
   "display_name": "Python 3",
   "language": "python",
   "name": "python3"
  },
  "language_info": {
   "codemirror_mode": {
    "name": "ipython",
    "version": 3
   },
   "file_extension": ".py",
   "mimetype": "text/x-python",
   "name": "python",
   "nbconvert_exporter": "python",
   "pygments_lexer": "ipython3",
   "version": "3.7.3"
  }
 },
 "nbformat": 4,
 "nbformat_minor": 2
}
